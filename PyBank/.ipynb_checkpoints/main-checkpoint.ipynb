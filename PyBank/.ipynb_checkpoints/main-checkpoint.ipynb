{
 "cells": [
  {
   "cell_type": "code",
   "execution_count": 90,
   "id": "7997777c-bb2d-41cb-9b0c-d3bccab36149",
   "metadata": {},
   "outputs": [
    {
     "name": "stdout",
     "output_type": "stream",
     "text": [
      "Financial Analysis\n",
      "------------------------\n",
      "Total Months: 86\n",
      "Total: $38382578\n",
      "Average Change: $446309.05\n",
      "Greatest Increase in Profits: Feb-2012 ($1170593)\n",
      "Greatest Decrease in Profits: Sep-2013 ($-1196225)\n"
     ]
    }
   ],
   "source": [
    "# Pybank\n",
    "\n",
    "# Import the pathlib and csv library\n",
    "from pathlib import Path\n",
    "import csv\n",
    "\n",
    "# Set the file path\n",
    "csvpath = Path(\"budget_data.csv\")\n",
    "\n",
    "# Initialize dictionary of records\n",
    "records = []\n",
    "\n",
    "# Initialize the metric variables\n",
    "count = 0\n",
    "total = 0\n",
    "average = 0\n",
    "minimum = 0\n",
    "maximum = 0\n",
    "\n",
    "# Open the csv file as an object\n",
    "with open(csvpath, 'r') as csvfile:\n",
    "    \n",
    "    # Create a csv reader object\n",
    "    csvreader = csv.reader(csvfile, delimiter=',')\n",
    "    \n",
    "    # Skip the header row\n",
    "    header = next(csvreader)\n",
    "    \n",
    "    # Loop through the rows in the file and store the data in records\n",
    "    for row in csvreader:\n",
    "        records.append(row)\n",
    "        \n",
    "# Extract Profits/losses from records\n",
    "profits_losses = [int(row[1]) for row in records]\n",
    "\n",
    "# Calculate the count, total, average, minimum, and maximum\n",
    "count = len(profits_losses)\n",
    "total = sum(profits_losses)\n",
    "average = round(total/count, 2)\n",
    "minimum = min(profits_losses)\n",
    "maximum = max(profits_losses)\n",
    "\n",
    "# Get the month and year associated with the minimum and maximum profits/losses\n",
    "minimum_index = profits_losses.index(minimum)\n",
    "minimum_month_year = records[minimum_index][0]\n",
    "maximum_index = profits_losses.index(maximum)\n",
    "maximum_month_year = records[maximum_index][0]\n",
    "\n",
    "# Print the financial analysis results\n",
    "print(\"Financial Analysis\")\n",
    "print(\"------------------------\")\n",
    "print(f\"Total Months: {count}\")\n",
    "print(f\"Total: ${total}\")\n",
    "print(f\"Average Change: ${average}\")\n",
    "print(f\"Greatest Increase in Profits: {maximum_month_year} (${maximum})\")\n",
    "print(f\"Greatest Decrease in Profits: {minimum_month_year} (${minimum})\")"
   ]
  },
  {
   "cell_type": "code",
   "execution_count": null,
   "id": "64e1463d-25c6-4e2f-a517-812b39497c59",
   "metadata": {},
   "outputs": [],
   "source": []
  }
 ],
 "metadata": {
  "kernelspec": {
   "display_name": "Python 3 (ipykernel)",
   "language": "python",
   "name": "python3"
  },
  "language_info": {
   "codemirror_mode": {
    "name": "ipython",
    "version": 3
   },
   "file_extension": ".py",
   "mimetype": "text/x-python",
   "name": "python",
   "nbconvert_exporter": "python",
   "pygments_lexer": "ipython3",
   "version": "3.7.13"
  }
 },
 "nbformat": 4,
 "nbformat_minor": 5
}
